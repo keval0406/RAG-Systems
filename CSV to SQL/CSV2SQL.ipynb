{
 "cells": [
  {
   "cell_type": "code",
   "execution_count": 1,
   "id": "b67a6c8e",
   "metadata": {},
   "outputs": [],
   "source": [
    "import os\n",
    "import sqlite3\n",
    "import pandas as pd\n",
    "import mysql.connector\n",
    "from sqlalchemy import create_engine, inspect, MetaData, text"
   ]
  },
  {
   "cell_type": "code",
   "execution_count": 2,
   "id": "42e34a73",
   "metadata": {},
   "outputs": [],
   "source": [
    "member_info = pd.read_csv('./data/member_info_final.csv')\n",
    "loyality_info = pd.read_csv('./data/loyalty_info_final.csv')\n",
    "booking_info = pd.read_csv('./data/bookings_info_final.csv')"
   ]
  },
  {
   "cell_type": "code",
   "execution_count": 3,
   "id": "5e4159a3",
   "metadata": {},
   "outputs": [
    {
     "name": "stdout",
     "output_type": "stream",
     "text": [
      "member_info: (47074, 24)\n",
      "booking_info: (47074, 35)\n",
      "loyality_info: (47074, 10)\n"
     ]
    }
   ],
   "source": [
    "print(f\"member_info: {member_info.shape}\")\n",
    "print(f\"booking_info: {booking_info.shape}\")\n",
    "print(f\"loyality_info: {loyality_info.shape}\")"
   ]
  },
  {
   "cell_type": "code",
   "execution_count": 4,
   "id": "8bb9c9ce",
   "metadata": {},
   "outputs": [],
   "source": [
    "def run_query(sql_query, db_uri='sqlite:///./data/airline.sqlite'):\n",
    "    engine = create_engine(db_uri)\n",
    "    with engine.connect() as conn:\n",
    "        result = conn.execute(text(sql_query))\n",
    "        results_as_dict = result.mappings().all()       \n",
    "        return results_as_dict"
   ]
  },
  {
   "cell_type": "code",
   "execution_count": 5,
   "id": "53993c79",
   "metadata": {},
   "outputs": [],
   "source": [
    "def csv_to_sqlite(csv_file_path, sqlite_db_path, table_name):\n",
    "    # Check if the CSV file exists\n",
    "    if not os.path.exists(csv_file_path):\n",
    "        raise FileNotFoundError(f\"The file {csv_file_path} does not exist.\")\n",
    "    \n",
    "    # Read the CSV file into a DataFrame\n",
    "    df = pd.read_csv(csv_file_path)\n",
    "    df.columns = df.columns.str.replace('\"', '')\n",
    "    \n",
    "    # Create a connection to the SQLite database\n",
    "    conn = sqlite3.connect(sqlite_db_path)\n",
    "\n",
    "    # Write the data to the SQLite database\n",
    "    df.to_sql(table_name, conn, if_exists='replace', index=False)\n",
    "\n",
    "    # Close the connection\n",
    "    conn.close()\n",
    "\n",
    "    print(f\"Data from {csv_file_path} has been successfully written to {sqlite_db_path} in the table {table_name}.\")"
   ]
  },
  {
   "cell_type": "code",
   "execution_count": 6,
   "id": "68519718",
   "metadata": {},
   "outputs": [
    {
     "name": "stdout",
     "output_type": "stream",
     "text": [
      "Data from ./data/bookings_info_final.csv has been successfully written to ./data/airline.sqlite in the table booking_info.\n",
      "Data from ./data/loyalty_info_final.csv has been successfully written to ./data/airline.sqlite in the table loyality_info.\n",
      "Data from ./data/member_info_final.csv has been successfully written to ./data/airline.sqlite in the table member_info.\n"
     ]
    }
   ],
   "source": [
    "csv_to_sqlite('./data/bookings_info_final.csv','./data/airline.sqlite','booking_info')\n",
    "csv_to_sqlite('./data/loyalty_info_final.csv','./data/airline.sqlite','loyality_info')\n",
    "csv_to_sqlite('./data/member_info_final.csv','./data/airline.sqlite','member_info')"
   ]
  },
  {
   "cell_type": "code",
   "execution_count": 7,
   "id": "eebd926e",
   "metadata": {},
   "outputs": [],
   "source": [
    "member_info_result = run_query('SELECT * from member_info','sqlite:///./data/airline.sqlite')\n",
    "booking_info_result = run_query('SELECT * from booking_info;','sqlite:///./data/airline.sqlite')\n",
    "loyality_info_result = run_query('SELECT * from loyality_info;','sqlite:///./data/airline.sqlite')"
   ]
  },
  {
   "cell_type": "code",
   "execution_count": 8,
   "id": "9bf08f76",
   "metadata": {},
   "outputs": [
    {
     "name": "stdout",
     "output_type": "stream",
     "text": [
      "member_info: (47074,24)\n",
      "booking_info: (47074,35)\n",
      "loyality_info: (47074,10)\n"
     ]
    }
   ],
   "source": [
    "print(f\"member_info: ({len(member_info_result)},{len(member_info_result[0])})\")\n",
    "print(f\"booking_info: ({len(booking_info_result)},{len(booking_info_result[0])})\")\n",
    "print(f\"loyality_info: ({len(loyality_info_result)},{len(loyality_info_result[0])})\")"
   ]
  },
  {
   "cell_type": "code",
   "execution_count": 9,
   "id": "581f51d8",
   "metadata": {},
   "outputs": [],
   "source": [
    "import re\n",
    "from langchain_community.utilities import SQLDatabase\n",
    "    \n",
    "db_path = \"./data/airline.sqlite\"\n",
    "db = SQLDatabase.from_uri(f\"sqlite:///{db_path}\")   \n",
    "\n",
    "def get_schema():\n",
    "    schema = db.get_table_info()\n",
    "    \n",
    "    #to remove charachters between /* */ and new line characters.\n",
    "    schema_cleaned = re.sub(r'/\\*.*?\\*/', '', schema, flags=re.DOTALL)\n",
    "    \n",
    "    #to remove leading and trailing spaces\n",
    "    schema_cleaned = schema_cleaned.strip()\n",
    "    \n",
    "    #to remove extra blank spaces\n",
    "    schema_cleaned = re.sub(r'\\n\\s*\\n+', '\\n\\n', schema_cleaned)\n",
    "    \n",
    "    splited = schema_cleaned.split('\\nCREATE')\n",
    "\n",
    "    for i in range(1,len(splited)):\n",
    "        splited[i] = \"CREATE\" + splited[i]    \n",
    "\n",
    "    final_schema = \"\\n\".join(splited)\n",
    "\n",
    "    return final_schema"
   ]
  },
  {
   "cell_type": "code",
   "execution_count": 10,
   "id": "70bca8b2",
   "metadata": {
    "scrolled": true
   },
   "outputs": [
    {
     "name": "stdout",
     "output_type": "stream",
     "text": [
      "CREATE TABLE booking_info (\n",
      "\t\"PNR\" TEXT, \n",
      "\t\"Origin\" TEXT, \n",
      "\t\"Destination\" TEXT, \n",
      "\tscheduled_departure_date TEXT, \n",
      "\tnum_passengers INTEGER, \n",
      "\ttrip_type TEXT, \n",
      "\tpurchase_lead INTEGER, \n",
      "\tlength_of_stay INTEGER, \n",
      "\tflight_hour INTEGER, \n",
      "\tflight_day TEXT, \n",
      "\tbooking_origin TEXT, \n",
      "\twants_extra_baggage INTEGER, \n",
      "\twants_preferred_seat INTEGER, \n",
      "\twants_in_flight_meals INTEGER, \n",
      "\tflight_duration REAL, \n",
      "\tflight_number TEXT, \n",
      "\tarrival_delay_minutes INTEGER, \n",
      "\tarrival_delay_group TEXT, \n",
      "\tcabin_name TEXT, \n",
      "\tnumber_of_legs INTEGER, \n",
      "\thaul_type TEXT, \n",
      "\tdeparture_gate TEXT, \n",
      "\tarrival_gate TEXT, \n",
      "\tinternational_domestic_indicator TEXT, \n",
      "\tamount REAL, \n",
      "\tpayment_method TEXT, \n",
      "\toperating_airline TEXT, \n",
      "\twants_priority_checkin INTEGER, \n",
      "\twants_priority_boarding INTEGER, \n",
      "\ttravel_insurance_flag INTEGER, \n",
      "\ttravel_insurance_amount REAL, \n",
      "\tbooking_class TEXT, \n",
      "\tfare_type TEXT, \n",
      "\t\"PNR_status\" TEXT, \n",
      "\t\"PNR_status_code\" TEXT\n",
      ")\n",
      "\n",
      "CREATE TABLE loyality_info (\n",
      "\t\"PNR\" TEXT, \n",
      "\tcustomer_email TEXT, \n",
      "\taccount_number INTEGER, \n",
      "\treward_points_earned INTEGER, \n",
      "\treward_points_burned INTEGER, \n",
      "\ttotal_reward_points INTEGER, \n",
      "\tmembership_tier_before_transaction TEXT, \n",
      "\tmembership_tier TEXT, \n",
      "\tdate_points_earned TEXT, \n",
      "\tpoints_before_transaction INTEGER\n",
      ")\n",
      "\n",
      "CREATE TABLE member_info (\n",
      "\tcustomer_email TEXT, \n",
      "\taccount_number INTEGER, \n",
      "\tfirst_name TEXT, \n",
      "\tlast_name TEXT, \n",
      "\tmembership_date TEXT, \n",
      "\tcustomer_address TEXT, \n",
      "\tcustomer_city TEXT, \n",
      "\tcustomer_state TEXT, \n",
      "\tcustomer_zipcode INTEGER, \n",
      "\tcustomer_country TEXT, \n",
      "\tcontactable_flag INTEGER, \n",
      "\tcall_flag INTEGER, \n",
      "\temailable_flag INTEGER, \n",
      "\tmailable_flag INTEGER, \n",
      "\tmarketing_communication_subscription_flag INTEGER, \n",
      "\tgender TEXT, \n",
      "\tsalutation TEXT, \n",
      "\tcurrent_membership_tier TEXT, \n",
      "\thighest_lifetime_membership_tier TEXT, \n",
      "\tlast_update_date TEXT, \n",
      "\t\"last_FF_transaction_date\" TEXT, \n",
      "\tnext_expiring_points INTEGER, \n",
      "\tphone_number TEXT, \n",
      "\tnext_expiring_date TEXT\n",
      ")\n"
     ]
    }
   ],
   "source": [
    "print(get_schema())"
   ]
  }
 ],
 "metadata": {
  "kernelspec": {
   "display_name": "Python 3 (ipykernel)",
   "language": "python",
   "name": "python3"
  },
  "language_info": {
   "codemirror_mode": {
    "name": "ipython",
    "version": 3
   },
   "file_extension": ".py",
   "mimetype": "text/x-python",
   "name": "python",
   "nbconvert_exporter": "python",
   "pygments_lexer": "ipython3",
   "version": "3.11.0"
  }
 },
 "nbformat": 4,
 "nbformat_minor": 5
}
