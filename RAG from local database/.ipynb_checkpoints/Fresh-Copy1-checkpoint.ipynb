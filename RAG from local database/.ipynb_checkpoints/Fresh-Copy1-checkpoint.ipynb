{
 "cells": [
  {
   "cell_type": "code",
   "execution_count": 1,
   "id": "e975fc5d",
   "metadata": {},
   "outputs": [],
   "source": [
    "import re\n",
    "import time\n",
    "import json\n",
    "import requests\n",
    "import langchain\n",
    "import langchain_community \n",
    "from langchain.llms import Huggi\n",
    "from langchain.prompts import PromptTemplate\n",
    "from langchain_community.utilities import SQLDatabase\n",
    "from langchain.schema.runnable import RunnablePassthrough\n",
    "from sqlalchemy import create_engine, inspect, MetaData, text"
   ]
  },
  {
   "cell_type": "code",
   "execution_count": 10,
   "id": "3525f876",
   "metadata": {},
   "outputs": [],
   "source": [
    "#Creating SQLite database cursor \n",
    "uri = \"sqlite:///./data/Chinook_Sqlite.sqlite\"\n",
    "db_path = \"./data/Chinook_Sqlite.sqlite\"\n",
    "db = SQLDatabase.from_uri(f\"sqlite:///{db_path}\")   \n",
    "\n",
    "def get_schema(_):\n",
    "    schema = db.get_table_info()\n",
    "    \n",
    "    #to remove charachters between /* */ and new line characters.\n",
    "    schema_cleaned = re.sub(r'/\\*.*?\\*/', '', schema, flags=re.DOTALL)\n",
    "    \n",
    "    #to remove leading and trailing spaces\n",
    "    schema_cleaned = schema_cleaned.strip()\n",
    "    \n",
    "    #to remove extra blank spaces\n",
    "    schema_cleaned = re.sub(r'\\n\\s*\\n+', '\\n\\n', schema_cleaned)\n",
    "    \n",
    "    splited = schema_cleaned.split('\\nCREATE')\n",
    "\n",
    "    for i in range(1,len(splited)):\n",
    "        splited[i] = \"CREATE\" + splited[i]    \n",
    "\n",
    "    final_schema = \"\\n\".join(splited)\n",
    "\n",
    "    return final_schema"
   ]
  },
  {
   "cell_type": "code",
   "execution_count": 35,
   "id": "79831133",
   "metadata": {},
   "outputs": [],
   "source": [
    "prompt = \"\"\"\n",
    "            You are an expert SQL query generator. You will be provided with a database schema and user instructions.\\ \n",
    "            Your task is to generate accurate and efficient SQL queries based on the given schema and user requirements. \\\n",
    "            Follow these steps:\\\n",
    "     \\\n",
    "     ***instructions*** \\\n",
    "     1.Understand the Schema: \\\n",
    "        Thoroughly examine the provided database schema. \\\n",
    "        Note the tables, columns, data types, and relationships between tables (e.g., primary keys, foreign keys).\\\n",
    "     2.Interpret User Instructions: \\ \n",
    "        Carefully read and understand the user's requirements for the SQL query. \\\n",
    "        Identify the tables and columns involved, the conditions for filtering data, and the desired output.\\\n",
    "    3.Generate SQL Queries:\\\n",
    "        Write SQL queries that accurately reflect the user's requirements.\\\n",
    "        Ensure the queries are syntactically correct and optimized for performance.\\\n",
    "        Return the Query:\\   \n",
    "\n",
    "    Provide the generated SQL query as the result. \\\n",
    "    {schema}\n",
    "    \n",
    "    User Instruction:\\\n",
    "    {user_question}\n",
    "    \n",
    "    ***strict instructions***\n",
    "    Just provide only and only SQL query do not use escape sequeces in output and \\\n",
    "    also not write Here is the generated SQL query:\n",
    "    Do not add anything extra.\n",
    "    \"\"\""
   ]
  },
  {
   "cell_type": "code",
   "execution_count": 36,
   "id": "5a349dc1",
   "metadata": {},
   "outputs": [],
   "source": [
    "prompt_temp = PromptTemplate(template = prompt,input_variables=['schema','user_question'])\n",
    "\n",
    "llm = Ollama(\n",
    "    base_url='http://localhost:11434',\n",
    "    model='llama3',\n",
    ")\n",
    "\n",
    "sql_chain = (\n",
    "    RunnablePassthrough.assign(schema=get_schema)\n",
    "    | prompt_temp\n",
    "    | llm\n",
    ")"
   ]
  },
  {
   "cell_type": "code",
   "execution_count": 82,
   "id": "8a5537dd",
   "metadata": {},
   "outputs": [],
   "source": [
    "def run_query(sql_query='SELECT * FROM Album limit 1;', db_uri='sqlite:///./data/Chinook_Sqlite.sqlite'):\n",
    "#     print(f\"SQL Query: {sql_query}\")\n",
    "    engine = create_engine(db_uri)\n",
    "    with engine.connect() as conn:\n",
    "        result = conn.execute(text(sql_query))\n",
    "        results_as_dict = result.mappings().all()\n",
    "#         print(f\"result_as_dict: {results_as_dict}\")             \n",
    "        return results_as_dict"
   ]
  },
  {
   "cell_type": "code",
   "execution_count": 85,
   "id": "c64592e8",
   "metadata": {},
   "outputs": [],
   "source": [
    "prompt_t = \"\"\"\n",
    "            You have given a query response as an input it will be dictionary containing colname : value your task is to use that and \n",
    "            Based on given schema and answer the user's question:\n",
    "            {schema}\n",
    "            \n",
    "            recieved response from database:\n",
    "            {response}\n",
    "            \n",
    "            user question:\n",
    "            {user_question}   \n",
    "            \n",
    "            '''strict instrucations'''\n",
    "            Don't print response and question which I have provided to you.\n",
    "    \"\"\""
   ]
  },
  {
   "cell_type": "code",
   "execution_count": 83,
   "id": "32fc733b",
   "metadata": {},
   "outputs": [],
   "source": [
    "def full_chain():\n",
    "    user_question = 'how many albums are there in the database?'\n",
    "    response = sql_chain.invoke({\"user_question\": user_question})\n",
    "    result = run_query(response)\n",
    "#     print(f'response : {response}')\n",
    "    answer = llm(prompt=prompt_t.format(user_question=user_question,schema=get_schema(_),response=result))   \n",
    "    return answer"
   ]
  },
  {
   "cell_type": "code",
   "execution_count": 84,
   "id": "f45dc9a2",
   "metadata": {},
   "outputs": [
    {
     "name": "stdout",
     "output_type": "stream",
     "text": [
      "SQL Query: SELECT COUNT(*) \n",
      "FROM \"Album\";\n",
      "result_as_dict: [{'COUNT(*)': 347}]\n",
      "response : SELECT COUNT(*) \n",
      "FROM \"Album\";\n",
      "Based on the schema and the received response from the database, the answer to the user's question \"how many albums are there in the database?\" would be:\n",
      "\n",
      "347\n"
     ]
    }
   ],
   "source": [
    "print(full_chain())"
   ]
  },
  {
   "cell_type": "code",
   "execution_count": null,
   "id": "9aeddcbd",
   "metadata": {},
   "outputs": [],
   "source": []
  }
 ],
 "metadata": {
  "kernelspec": {
   "display_name": "Python 3 (ipykernel)",
   "language": "python",
   "name": "python3"
  },
  "language_info": {
   "codemirror_mode": {
    "name": "ipython",
    "version": 3
   },
   "file_extension": ".py",
   "mimetype": "text/x-python",
   "name": "python",
   "nbconvert_exporter": "python",
   "pygments_lexer": "ipython3",
   "version": "3.11.0"
  }
 },
 "nbformat": 4,
 "nbformat_minor": 5
}
