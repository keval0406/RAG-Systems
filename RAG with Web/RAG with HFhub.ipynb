{
 "cells": [
  {
   "cell_type": "code",
   "execution_count": 1,
   "id": "fa623031",
   "metadata": {},
   "outputs": [
    {
     "name": "stderr",
     "output_type": "stream",
     "text": [
      "C:\\Users\\Evoortsolutions\\AppData\\Local\\Temp\\ipykernel_13588\\2933666298.py:3: TqdmExperimentalWarning: Using `tqdm.autonotebook.tqdm` in notebook mode. Use `tqdm.tqdm` instead to force console mode (e.g. in jupyter console)\n",
      "  from tqdm.autonotebook import tqdm, trange\n",
      "WARNING:root:USER_AGENT environment variable not set, consider setting it to identify your requests.\n"
     ]
    }
   ],
   "source": [
    "import langchain\n",
    "from langchain.vectorstores import FAISS\n",
    "from langchain.chains import RetrievalQA\n",
    "from tqdm.autonotebook import tqdm, trange\n",
    "from langchain.document_loaders import WebBaseLoader\n",
    "from langchain.text_splitter import RecursiveCharacterTextSplitter\n",
    "from langchain_huggingface import HuggingFaceEmbeddings\n",
    "from tqdm.autonotebook import tqdm, trange\n",
    "from langchain.llms import HuggingFaceHub\n",
    "\n",
    "from langchain.embeddings import HuggingFaceInferenceAPIEmbeddings\n",
    "from langchain.prompts import PromptTemplate\n",
    "import os\n",
    "from getpass import getpass\n",
    "import warnings\n",
    "warnings.filterwarnings(\"ignore\")"
   ]
  },
  {
   "cell_type": "code",
   "execution_count": 2,
   "id": "8b1c3266",
   "metadata": {},
   "outputs": [],
   "source": [
    "#add website data\n",
    "URL = [\"https://www.geeksforgeeks.org/stock-price-prediction-project-using-tensorflow/\",\n",
    "       \"https://www.geeksforgeeks.org/training-of-recurrent-neural-networks-rnn-in-tensorflow/\"]\n",
    " \n",
    "#load the data\n",
    "data = WebBaseLoader(URL)\n",
    "#extract the content\n",
    "content = data.load()"
   ]
  },
  {
   "cell_type": "code",
   "execution_count": 3,
   "id": "c958f198",
   "metadata": {},
   "outputs": [],
   "source": [
    "from langchain.text_splitter import RecursiveCharacterTextSplitter\n",
    "\n",
    "text_splitter = RecursiveCharacterTextSplitter(chunk_size=256,chunk_overlap=50)\n",
    "chunking = text_splitter.split_documents(content)\n",
    "splitter = RecursiveCharacterTextSplitter(chunk_size=512, chunk_overlap=30)\n",
    "\n",
    "chunked_docs = splitter.split_documents(content)"
   ]
  },
  {
   "cell_type": "code",
   "execution_count": 4,
   "id": "fb15c883",
   "metadata": {
    "scrolled": true
   },
   "outputs": [],
   "source": [
    "from langchain.embeddings import HuggingFaceInferenceAPIEmbeddings\n",
    " \n",
    "import os\n",
    "from getpass import getpass\n",
    " \n",
    "# get your free access token from HuggingFace and paste it here\n",
    "HF_token = getpass()\n",
    "os.environ['HUGGINGFACEHUB_API_TOKEN'] = HF_token\n",
    " \n",
    "embeddings = HuggingFaceInferenceAPIEmbeddings(\n",
    "    api_key = HF_token,model_name = \"BAAI/bge-base-en-v1.5\"\n",
    ")"
   ]
  },
  {
   "cell_type": "code",
   "execution_count": null,
   "id": "72d5904b",
   "metadata": {},
   "outputs": [],
   "source": [
    "from langchain.vectorstores import Chroma\n",
    "\n",
    "vectorstore = Chroma.from_documents(chunking,embeddings)"
   ]
  },
  {
   "cell_type": "code",
   "execution_count": null,
   "id": "bdeaf59c",
   "metadata": {},
   "outputs": [
    {
     "name": "stdout",
     "output_type": "stream",
     "text": [
      "page_content='EDA also known as Exploratory Data Analysis is a technique that is used to analyze the data through visualization and manipulation. For this project let us visualize the data of famous companies such as Nvidia, Google, Apple, Facebook, and so on.' metadata={'description': 'A Computer Science portal for geeks. It contains well written, well thought and well explained computer science and programming articles, quizzes and practice/competitive programming/company interview Questions.', 'language': 'en-US', 'source': 'https://www.geeksforgeeks.org/stock-price-prediction-project-using-tensorflow/', 'title': 'Stock Price Prediction Project using TensorFlow - GeeksforGeeks'}\n"
     ]
    }
   ],
   "source": [
    "retriever = vectorstore.as_retriever(search_type=\"mmr\",search_kwargs={\"k\":5},)\n",
    "query = \"What is Selenium?\"\n",
    "docs_rel = retriever.get_relevant_documents(query)\n",
    "print(docs_rel[1])"
   ]
  },
  {
   "cell_type": "code",
   "execution_count": null,
   "id": "26cb4d16",
   "metadata": {},
   "outputs": [],
   "source": [
    "prompt_template = \"\"\"\n",
    "You are an intelligent assistant designed to provide answers based on the provided context. Follow these instructions:\n",
    "\n",
    "***instructions***\n",
    "1. Contextual Understanding:\n",
    "   - Carefully read and understand the given context.\n",
    "   - Use only the information provided in the context to generate your answer.\n",
    "   \n",
    "2. Answer Generation:\n",
    "   - If the question is directly related to the context, provide a detailed and helpful answer.\n",
    "   - If the information needed to answer the question is not mentioned in the context, respond with \"I don't know.\"\n",
    "\n",
    "Provided Context:\n",
    "{context}\n",
    "\n",
    "Question:\n",
    "{question}\n",
    "\n",
    "Helpful Answer:\n",
    "\"\"\"\n",
    "\n",
    "PROMPT = PromptTemplate(\n",
    " template=prompt_template, input_variables=[\"context\", \"question\"]\n",
    ")"
   ]
  },
  {
   "cell_type": "code",
   "execution_count": null,
   "id": "7c87fd74",
   "metadata": {
    "scrolled": false
   },
   "outputs": [],
   "source": [
    "from langchain.llms import HuggingFaceHub\n",
    "from langchain.chains import RetrievalQA\n",
    "from langchain.prompts import PromptTemplate\n",
    " \n",
    "model = HuggingFaceHub(repo_id=\"HuggingFaceH4/zephyr-7b-alpha\",\n",
    "                       model_kwargs={\"temperature\":0.1,\n",
    "                                     \"max_new_tokens\":512,\n",
    "                                     \"max_length\":64\n",
    "                                    })\n",
    "\n",
    "\n",
    "# Define RetrievalQA chain\n",
    "chain = RetrievalQA.from_chain_type(\n",
    "    model, \n",
    "    retriever=retriever,\n",
    "    return_source_documents=False,\n",
    "    chain_type_kwargs={\"prompt\":PROMPT},\n",
    "    chain_type=\"stuff\"\n",
    ")\n",
    "\n",
    "response = chain({\"query\": query})"
   ]
  },
  {
   "cell_type": "code",
   "execution_count": null,
   "id": "4bc76263",
   "metadata": {},
   "outputs": [
    {
     "name": "stdout",
     "output_type": "stream",
     "text": [
      "You are a chatbot which helps people to retrive answer based on given context. If query was in context.\n",
      "If query is not there in context then stright say \"I don't know.\"\n",
      "Choice QuizzesAptitude for PlacementsPuzzles for InterviewsLanguagesCC++JavaPythonR TutorialC#SQLScalaPerlGo LanguageWeb DevelopmentHTMLCSSJavaScriptTypeScriptReactJSReact JS TutorialNextJSNode.jsPHPAngularJSjQueryWeb Design100 Days of Web DevelopmentCS\n",
      "\n",
      "EDA also known as Exploratory Data Analysis is a technique that is used to analyze the data through visualization and manipulation. For this project let us visualize the data of famous companies such as Nvidia, Google, Apple, Facebook, and so on.\n",
      "\n",
      "QuestionsFlaskFlask TutorialPython Flask ProjectsFlask Interview QuestionsPostmanGithubWeb Scrapping in PythonData Structures & AlgorithmsDSA for BeginnersData StructuresArraysMatrixStringsLinked ListStackQueueTreeGeneric TreeBinary TreeBinary Search\n",
      "\n",
      "TemplatesAptitude PreparationPuzzlesCompany-Wise PreparationCompaniesCollegesCompetitive ExamsJEE AdvancedUGC NETUPSCSSC CGLSBI POSBI ClerkIBPS POIBPS ClerkMore TutorialsSoftware DevelopmentSoftware TestingProduct ManagementProject ManagementLinuxExcelAll\n",
      "\n",
      "ScienceEnglish GrammarCommerceAccountancyBusiness StudiesEconomicsManagementHR ManagementFinanceIncome TaxDatabasesSQLMYSQLPostgreSQLPL/SQLMongoDBPreparation CornerCompany-Wise Recruitment ProcessResume TemplatesAptitude PreparationPuzzlesCompany-Wise\n",
      "\n",
      "Question: What is Selenium?\n",
      "\n",
      "Helpful Answer:\n",
      "\n",
      "Selenium is an open-source testing tool used for automation testing of web applications. It is widely used for testing web applications in various programming languages such as Java, Python, Ruby, and C#. Selenium is a popular tool for web application testing due to its cross-platform compatibility, ease of use, and support for various programming languages. It allows testers to write test scripts in their preferred programming language and execute them on different web browsers such as Chrome, Firefox, and Safari. Selenium also supports various testing frameworks such as TestNG, JUnit, and NUnit, which makes it easy to integrate with other testing tools and frameworks. Overall, Selenium is a powerful and widely used tool for web application testing that provides a comprehensive set of features and capabilities for automation testing.\n"
     ]
    }
   ],
   "source": [
    "print(response['result'])"
   ]
  },
  {
   "cell_type": "code",
   "execution_count": null,
   "id": "7e5e1beb",
   "metadata": {},
   "outputs": [],
   "source": []
  },
  {
   "cell_type": "code",
   "execution_count": null,
   "id": "c9737c83",
   "metadata": {},
   "outputs": [],
   "source": []
  }
 ],
 "metadata": {
  "kernelspec": {
   "display_name": "Python 3 (ipykernel)",
   "language": "python",
   "name": "python3"
  },
  "language_info": {
   "codemirror_mode": {
    "name": "ipython",
    "version": 3
   },
   "file_extension": ".py",
   "mimetype": "text/x-python",
   "name": "python",
   "nbconvert_exporter": "python",
   "pygments_lexer": "ipython3",
   "version": "3.11.0"
  }
 },
 "nbformat": 4,
 "nbformat_minor": 5
}
