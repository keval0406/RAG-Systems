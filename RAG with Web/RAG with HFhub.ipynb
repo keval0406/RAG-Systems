{
 "cells": [
  {
   "cell_type": "code",
   "execution_count": 1,
   "id": "fa623031",
   "metadata": {},
   "outputs": [
    {
     "name": "stderr",
     "output_type": "stream",
     "text": [
      "C:\\Users\\Evoortsolutions\\AppData\\Local\\Temp\\ipykernel_15912\\2554702718.py:7: TqdmExperimentalWarning: Using `tqdm.autonotebook.tqdm` in notebook mode. Use `tqdm.tqdm` instead to force console mode (e.g. in jupyter console)\n",
      "  from tqdm.autonotebook import tqdm, trange\n",
      "WARNING:root:USER_AGENT environment variable not set, consider setting it to identify your requests.\n"
     ]
    }
   ],
   "source": [
    "import langchain\n",
    "from langchain.vectorstores import FAISS\n",
    "from langchain.vectorstores import Chroma\n",
    "\n",
    "from langchain.chains import RetrievalQA\n",
    "from langchain.llms import HuggingFaceHub\n",
    "from tqdm.autonotebook import tqdm, trange\n",
    "from langchain.prompts import PromptTemplate\n",
    "\n",
    "from langchain.document_loaders import WebBaseLoader\n",
    "from langchain_huggingface import HuggingFaceEmbeddings\n",
    "from langchain.text_splitter import RecursiveCharacterTextSplitter\n",
    "from langchain.embeddings import HuggingFaceInferenceAPIEmbeddings\n",
    "\n",
    "import os\n",
    "import warnings\n",
    "from getpass import getpass\n",
    "\n",
    "warnings.filterwarnings(\"ignore\")"
   ]
  },
  {
   "cell_type": "code",
   "execution_count": 2,
   "id": "8b1c3266",
   "metadata": {},
   "outputs": [],
   "source": [
    "#add website data\n",
    "URL = [\"https://www.geeksforgeeks.org/stock-price-prediction-project-using-tensorflow/\",\n",
    "       \"https://www.geeksforgeeks.org/training-of-recurrent-neural-networks-rnn-in-tensorflow/\"]\n",
    " \n",
    "#load the data\n",
    "data = WebBaseLoader(URL)\n",
    "#extract the content\n",
    "content = data.load()"
   ]
  },
  {
   "cell_type": "code",
   "execution_count": 3,
   "id": "c958f198",
   "metadata": {},
   "outputs": [],
   "source": [
    "from langchain.text_splitter import RecursiveCharacterTextSplitter\n",
    "\n",
    "text_splitter = RecursiveCharacterTextSplitter(chunk_size=512,chunk_overlap=50)\n",
    "chunking = text_splitter.split_documents(content)"
   ]
  },
  {
   "cell_type": "code",
   "execution_count": 4,
   "id": "fb15c883",
   "metadata": {
    "scrolled": true
   },
   "outputs": [
    {
     "name": "stdout",
     "output_type": "stream",
     "text": [
      "········\n"
     ]
    }
   ],
   "source": [
    "from langchain.embeddings import HuggingFaceInferenceAPIEmbeddings\n",
    " \n",
    "import os\n",
    "from getpass import getpass\n",
    " \n",
    "# get your free access token from HuggingFace and paste it here\n",
    "HF_token = getpass()\n",
    "os.environ['HUGGINGFACEHUB_API_TOKEN'] = HF_token\n",
    " \n",
    "embeddings = HuggingFaceInferenceAPIEmbeddings(\n",
    "    api_key = HF_token,model_name = \"BAAI/bge-base-en-v1.5\"\n",
    ")"
   ]
  },
  {
   "cell_type": "code",
   "execution_count": 5,
   "id": "72d5904b",
   "metadata": {},
   "outputs": [],
   "source": [
    "vectorstore = Chroma.from_documents(chunking,embeddings)"
   ]
  },
  {
   "cell_type": "code",
   "execution_count": 6,
   "id": "bdeaf59c",
   "metadata": {},
   "outputs": [],
   "source": [
    "retriever = vectorstore.as_retriever(search_type='mmr',search_kwargs={\"k\":5})"
   ]
  },
  {
   "cell_type": "code",
   "execution_count": 7,
   "id": "ad17a048",
   "metadata": {},
   "outputs": [
    {
     "name": "stdout",
     "output_type": "stream",
     "text": [
      "page_content='Recurrent Neural Networks in TensorFlow\\nRecurrent Neural Network is different from Convolution Neural Network and Artificial Neural Network. A Neural Network is basically known to be trained to learn deep features to make accurate predictions. Whereas Recurrent Neural Network works in such a way that there is feedback between each node which stores information in the cell state. In simple words, Recurrent Neural Networks are the process of backpropagating through time.' metadata={'description': 'A Computer Science portal for geeks. It contains well written, well thought and well explained computer science and programming articles, quizzes and practice/competitive programming/company interview Questions.', 'language': 'en-US', 'source': 'https://www.geeksforgeeks.org/training-of-recurrent-neural-networks-rnn-in-tensorflow/', 'title': 'Training of Recurrent Neural Networks (RNN) in TensorFlow - GeeksforGeeks'}\n"
     ]
    }
   ],
   "source": [
    "query = \"What is Recurrent Neural Networks?\"\n",
    "docs_rel = retriever.get_relevant_documents(query)\n",
    "print(docs_rel[1])"
   ]
  },
  {
   "cell_type": "code",
   "execution_count": 28,
   "id": "26cb4d16",
   "metadata": {},
   "outputs": [],
   "source": [
    "prompt_template = \"\"\"\n",
    "You are an intelligent assistant designed to provide answers based on the provided context. Follow these instructions:\n",
    "\n",
    "***instructions***\n",
    "1. Contextual Understanding:\n",
    "   - Carefully read and understand the given context.\n",
    "   - Use only the information provided in the context to generate your answer.\n",
    "   \n",
    "2. Answer Generation:\n",
    "   - If the question is directly related to the context, provide a detailed and helpful answer.\n",
    "   - If the information needed to answer the question is not mentioned in the context, respond with \"I don't know.\"\n",
    "\n",
    "Don't print anything extra use only answer as a response.\n",
    "\n",
    "Provided Context:\n",
    "{context}\n",
    "\n",
    "Question:\n",
    "{question}\n",
    "\n",
    "Answer:\n",
    "\"\"\"\n",
    "\n",
    "PROMPT = PromptTemplate(\n",
    " template=prompt_template, input_variables=[\"context\", \"question\"]\n",
    ")"
   ]
  },
  {
   "cell_type": "code",
   "execution_count": 45,
   "id": "c4ee2fe3",
   "metadata": {},
   "outputs": [],
   "source": [
    "from langchain.llms import Ollama\n",
    "from langchain.callbacks.manager import CallbackManager\n",
    "from langchain.callbacks.streaming_stdout import StreamingStdOutCallbackHandler\n",
    "\n",
    "llm = Ollama(\n",
    "    base_url='http://localhost:11434',\n",
    "    model='llama3',\n",
    ")"
   ]
  },
  {
   "cell_type": "code",
   "execution_count": 46,
   "id": "7c87fd74",
   "metadata": {
    "scrolled": true
   },
   "outputs": [],
   "source": [
    "from langchain.llms import HuggingFaceHub\n",
    "from langchain.chains import RetrievalQA\n",
    "from langchain.prompts import PromptTemplate\n",
    " \n",
    "model = HuggingFaceHub(repo_id=\"google/flan-t5-base\",\n",
    "                       model_kwargs={\"temperature\":0.2,\n",
    "                                     \"max_new_tokens\":240,\n",
    "                                     \"max_length\":128\n",
    "                                    })\n",
    "\n",
    "# Define RetrievalQA chain\n",
    "chain = RetrievalQA.from_chain_type(\n",
    "    llm, \n",
    "    retriever=retriever,\n",
    "    return_source_documents=True,\n",
    "    chain_type_kwargs={\"prompt\":PROMPT},\n",
    "    chain_type=\"stuff\"\n",
    ")"
   ]
  },
  {
   "cell_type": "code",
   "execution_count": 43,
   "id": "4bc76263",
   "metadata": {},
   "outputs": [
    {
     "name": "stdout",
     "output_type": "stream",
     "text": [
      "Recurrent Neural Networks (RNNs) are a class of neural networks that are particularly effective for sequential data. Unlike traditional feedforward neural networks, RNNs have connections that form directed cycles, allowing them to maintain a hidden state that can capture information from previous inputs.Recurrent Neural Networks (RNNs) are a class of neural networks that are particularly effective for sequential data. Unlike traditional feedforward neural networks, RNNs have connections that form directed cycles, allowing them to maintain a hidden state that can capture information from previous inputs.\n"
     ]
    }
   ],
   "source": [
    "query = \"What is RNN?\"\n",
    "response = chain.invoke(query)\n",
    "print(response['result'])"
   ]
  },
  {
   "cell_type": "code",
   "execution_count": 47,
   "id": "29941092",
   "metadata": {},
   "outputs": [
    {
     "name": "stdout",
     "output_type": "stream",
     "text": [
      "I don't know.\n"
     ]
    }
   ],
   "source": [
    "query = \"What is Selenium?\"\n",
    "response = chain({\"query\": query})\n",
    "print(response['result'])"
   ]
  },
  {
   "cell_type": "code",
   "execution_count": 48,
   "id": "31473623",
   "metadata": {},
   "outputs": [
    {
     "name": "stdout",
     "output_type": "stream",
     "text": [
      "I don't know.\n"
     ]
    }
   ],
   "source": [
    "query = \"What is virtual functions in cpp?\"\n",
    "response = chain({\"query\": query})\n",
    "print(response['result'])"
   ]
  },
  {
   "cell_type": "code",
   "execution_count": 49,
   "id": "80ba6139",
   "metadata": {},
   "outputs": [
    {
     "name": "stdout",
     "output_type": "stream",
     "text": [
      "Convolutional Neural Networks (CNNs).\n"
     ]
    }
   ],
   "source": [
    "query = \"What is CNNs?\"\n",
    "response = chain({\"query\": query})\n",
    "print(response['result'])"
   ]
  },
  {
   "cell_type": "code",
   "execution_count": 50,
   "id": "f97da6a0",
   "metadata": {
    "scrolled": true
   },
   "outputs": [
    {
     "name": "stdout",
     "output_type": "stream",
     "text": [
      "I don't know.\n"
     ]
    }
   ],
   "source": [
    "query = \"What is RAG?\"\n",
    "response = chain({\"query\": query})\n",
    "print(response['result'])"
   ]
  },
  {
   "cell_type": "code",
   "execution_count": 51,
   "id": "c433c48d",
   "metadata": {
    "scrolled": true
   },
   "outputs": [
    {
     "name": "stdout",
     "output_type": "stream",
     "text": [
      "Now that the data is ready, the next step is building a Simple Recurrent Neural network. Before training with SimpleRNN, the data is passed through the Embedding layer to perform the equal size of Word Vectors. The model's training process involves passing the data through the layers in sequence: Embedding → RNN → Output.\n"
     ]
    }
   ],
   "source": [
    "query = \"How RNNs trained explain me training in detail?\"\n",
    "response = chain({\"query\": query})\n",
    "print(response['result'])"
   ]
  },
  {
   "cell_type": "code",
   "execution_count": null,
   "id": "e31a9b0a",
   "metadata": {},
   "outputs": [],
   "source": []
  }
 ],
 "metadata": {
  "kernelspec": {
   "display_name": "Python 3 (ipykernel)",
   "language": "python",
   "name": "python3"
  },
  "language_info": {
   "codemirror_mode": {
    "name": "ipython",
    "version": 3
   },
   "file_extension": ".py",
   "mimetype": "text/x-python",
   "name": "python",
   "nbconvert_exporter": "python",
   "pygments_lexer": "ipython3",
   "version": "3.11.0"
  }
 },
 "nbformat": 4,
 "nbformat_minor": 5
}
